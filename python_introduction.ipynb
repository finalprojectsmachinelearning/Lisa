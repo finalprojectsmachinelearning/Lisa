{
 "cells": [
  {
   "cell_type": "markdown",
   "metadata": {
    "colab_type": "text",
    "id": "mApH_j6BKxW0"
   },
   "source": [
    "# CIS 419/519 Python Introduction\n",
    "## Python/Jupyter Installation Instructions\n",
    "First, make sure you have python3 (version 3.7 is the latest) installed on your local machine.\n",
    "We recommend managing your python installation with Anaconda.\n",
    "The Anaconda website has instructions for how to install python based on your operating system:\n",
    "- https://www.anaconda.com/download/\n",
    "\n",
    "Second, make sure that you have Jupyter notebooks installed.\n",
    "It may have already come with your Anaconda installation.\n",
    "If not, the Jupyter website has installation instructions:\n",
    "- http://jupyter.org/install\n",
    "\n",
    "If you have never used python or Jupyter notebooks before, we recommend bookmarking these resources:\n",
    "- Python: https://developers.google.com/edu/python/\n",
    "- Jupyter: https://www.datacamp.com/community/tutorials/tutorial-jupyter-notebook\n",
    "\n",
    "Be aware that the Google tutorial uses python2, so some of their example code may not directly work in python3:\n",
    "- Print statements now require parentheses: `print x` now becomes `print(x)`\n",
    "- No longer need to specify file encoding: `open('file.txt', 'r')` works\n",
    "- The division operator `/` no longer does integer divison: `5 / 2` is `2.5`\n",
    "- The `xrange` operator is now only `range`\n",
    "\n",
    "Other differences can be found on the web: https://www.geeksforgeeks.org/important-differences-between-python-2-x-and-python-3-x-with-examples/\n"
   ]
  },
  {
   "cell_type": "markdown",
   "metadata": {
    "colab_type": "text",
    "id": "7kEEMXpy7dP3"
   },
   "source": [
    "## About Python\n",
    "Python is a programming language that is very popular among the machine learning research community.\n",
    "It is a higher-level programming language than Java, and has an extensive collection of libraries that can be easily installed.\n",
    "We require that you use python for this class, so it is important to be familiar with it.\n",
    "\n",
    "### Python vs Java\n",
    "- Java is compiled, but Python is not: you directly run the Python file\n",
    "- Java is statically typed (the types of the variables cannot change), and you do not declare types in Python\n",
    "```\n",
    "# This works in python\n",
    "x = 3\n",
    "x = \"python\"\n",
    "```\n",
    "- Instantiating a class in Python does not use `new`\n",
    "```\n",
    "# Assume there is a class called `Person`\n",
    "p = Person('Emily', 25)\n",
    "```\n",
    "- Python does not use parentheses, like Java. Instead, it uses whitespace to infer the scope of methods, for loops, etc.\n",
    "```\n",
    "for i in range(10):\n",
    "      print(i * 2)      # Indent by 4 spaces\n",
    "      print(i * 4)\n",
    "print('Done')       # No indent, runs after for loop\n",
    "```\n",
    "- Functions cannot be overloaded, instead use optional arguments\n",
    "```\n",
    "def f(x, y=0.0):\n",
    "      ....\n",
    "f(8)\n",
    "f(8, 2)\n",
    "```\n",
    "- Boolean values are now `True` and `False`\n",
    "\n",
    "### Python vs Matlab\n",
    "- Python uses hard brackets `[]` for indexing arrays and matrices instead of `()` in Matlab\n",
    "- Python is 0-indexed, so the first item in a list is at index 0, not 1\n",
    "- Python doesn't come by default with a full development tool, like Matlab\n",
    "- The `numpy` library in Python implements many of the same matrix functionality that Matlab has\n",
    "\n",
    "### Development Environments\n",
    "- In this class we will use Jupyter Notebooks, which is one of many ways you can write python code. We feel that Jupyter Notebooks are a simple, but effective tool.\n",
    "- Other options include:\n",
    "  - Text editors: Atom, Sublime\n",
    "  - PyCharm: https://www.jetbrains.com/pycharm/\n",
    "  - Google Collaboratory: https://colab.research.google.com/ \n",
    "\n"
   ]
  },
  {
   "cell_type": "markdown",
   "metadata": {
    "colab_type": "text",
    "id": "JGgf7SmbKxW0"
   },
   "source": [
    "## Jupyter Notebooks\n",
    "When you start a Jupyter Notebook, you are starting a server on your local machine that hosts the notebooks.\n",
    "```\n",
    "> jupyter notebook\n",
    "```\n",
    "Once the server has started, open up a web browser and go to http://localhost:8888.\n",
    "You should see a file tree, which you can use to navigate to where you want to save your Jupyter Notebook.\n",
    "\n",
    "Jupyter Notebooks allow you to interactively develop python code.\n",
    "Cells have types, either markdown (https://github.com/adam-p/markdown-here/wiki/Markdown-Cheatsheet) or python code.\n",
    "You can write as much code in a cell as you need.\n",
    "When you want to execute it, enter shift+enter.\n",
    "Anything displayed by your program will be written below the cell.\n",
    "Variables that are defined within an executed cell are saved in memory and can be used later (similar behavior in Matlab).\n",
    "It's similar to if you could pause the program execution.\n",
    "Code within other cells can reference any cell _which has already been executed_.\n",
    "If you have already run a cell and you edit its code, the cell needs to be rerun in order for your changes to take effect.\n",
    "\n",
    "If you close the Jupyter Notebook, you will need to rerun all of the cells from scratch so the variables and methods will be redefined. **Make sure you save before you close the notebook!**\n",
    "\n",
    "### Submitting assignments\n",
    "Your Jupyter Notebook can be downloaded as a python file that can be run under File -> Download -> Python .py.\n",
    "You should turn in this python file and **not** the `.ipynb` file."
   ]
  },
  {
   "cell_type": "markdown",
   "metadata": {
    "colab_type": "text",
    "id": "fQ_lSXvOUtqY"
   },
   "source": [
    "## Basics"
   ]
  },
  {
   "cell_type": "code",
   "execution_count": 1,
   "metadata": {
    "colab": {
     "base_uri": "https://localhost:8080/",
     "height": 53
    },
    "colab_type": "code",
    "id": "VNkLmpJeUv2_",
    "outputId": "d28fa1c7-f979-4e1d-901d-c1555797364a"
   },
   "outputs": [
    {
     "name": "stdout",
     "output_type": "stream",
     "text": [
      "abc\n",
      "None\n",
      "True\n",
      "140\n",
      "140.243\n",
      "123\n"
     ]
    }
   ],
   "source": [
    "# Assigning variables\n",
    "x = 4.2\n",
    "y = 8\n",
    "s = 'hello'\n",
    "\n",
    "# The types of variables can change without a problem\n",
    "y = 'abc'\n",
    "\n",
    "# To display variables, use the print function\n",
    "print(y)\n",
    "\n",
    "# The \"null\" type is called `None`\n",
    "z = None\n",
    "print(z)\n",
    "\n",
    "print(z == None)\n",
    "\n",
    "# Casting\n",
    "s = '140'\n",
    "print(int(s))\n",
    "s = '140.243'\n",
    "print(float(s))\n",
    "x = 123\n",
    "print(str(x))"
   ]
  },
  {
   "cell_type": "markdown",
   "metadata": {
    "colab_type": "text",
    "id": "DBUOqKo1KxW1"
   },
   "source": [
    "## String Manipulation\n",
    "A good reference resource: https://developers.google.com/edu/python/strings"
   ]
  },
  {
   "cell_type": "code",
   "execution_count": 6,
   "metadata": {
    "colab": {
     "base_uri": "https://localhost:8080/",
     "height": 305
    },
    "colab_type": "code",
    "id": "RHQAMWQeKxW2",
    "outputId": "cf5a7a9a-9eac-43d9-b37d-c04946ecbfe1"
   },
   "outputs": [
    {
     "name": "stdout",
     "output_type": "stream",
     "text": [
      "6\n",
      "A\n",
      "B\n",
      "f\n",
      "BCd\n",
      "Cdef\n",
      "AB\n",
      "BCdef\n",
      "True\n",
      "f\n",
      "e\n",
      "ABCde\n",
      "ef\n",
      "ef\n",
      "ABC\n",
      "fedCBA\n",
      "ABCdefxyz\n",
      "ABCdef123\n",
      "['AB', 'def']\n"
     ]
    }
   ],
   "source": [
    "s = \"ABCdef\"\n",
    "\n",
    "# Length\n",
    "print(len(s))    \n",
    "\n",
    "# Standard Indexing: Notice hard brackets and 0-indexing\n",
    "print(s[0])      \n",
    "print(s[1])      \n",
    "print(s[5])     \n",
    "# print(s[100])  # Error\n",
    "\n",
    "# Range Indexing\n",
    "print(s[1:4])    \n",
    "print(s[2:])     \n",
    "print(s[:2])     \n",
    "print(s[1:100])  \n",
    "print(s[:2] + s[2:] == s) \n",
    "                 \n",
    "# Negative Indexing\n",
    "print(s[-1])    \n",
    "print(s[-2])     \n",
    "print(s[:-1])   \n",
    "print(s[-2:])    \n",
    "print(s[-2:len(s)]) \n",
    "                \n",
    "print(s[:-3])   \n",
    "print(s[::-1])   \n",
    "\n",
    "# Concatenation\n",
    "print(s + 'xyz')      \n",
    "# print(s + 123)     # Error\n",
    "print(s + str(123))   \n",
    "\n",
    "# Splitting\n",
    "print(s.split('C'))   "
   ]
  },
  {
   "cell_type": "markdown",
   "metadata": {
    "colab_type": "text",
    "id": "-D--i99TKxW7"
   },
   "source": [
    "## Lists\n",
    "https://developers.google.com/edu/python/lists"
   ]
  },
  {
   "cell_type": "code",
   "execution_count": 3,
   "metadata": {
    "colab": {
     "base_uri": "https://localhost:8080/",
     "height": 215
    },
    "colab_type": "code",
    "id": "w2MmdXxNKxW7",
    "outputId": "8300b391-0d4c-4356-f927-b40faf6276c1"
   },
   "outputs": [
    {
     "name": "stdout",
     "output_type": "stream",
     "text": [
      "5\n",
      "4\n",
      "[2, 8]\n",
      "8\n",
      "[0, 2, 4, 8, 9]\n",
      "[9, 8, 4, 2, 0]\n",
      "[0, 4, 2, 8, 9, 10]\n",
      "[0, 4, 2, 8, 9, 10, 1, 12]\n",
      "[0, 4, 2, 8, 9, 10, 1, 12, 'machine learning']\n",
      "True\n",
      "False\n"
     ]
    }
   ],
   "source": [
    "a = [0, 4, 2, 8, 9]  # Create a list with initial items\n",
    "b = []  # Create an empty list\n",
    "\n",
    "# Length\n",
    "print(len(a))  # 5\n",
    "\n",
    "# The same indexing operations on strings work for lists\n",
    "print(a[1])    # 4\n",
    "print(a[2:4])  # [2, 8]\n",
    "print(a[-2])   # 8\n",
    "\n",
    "# Sort the list\n",
    "print(sorted(a))                # [0, 2, 4, 8, 9] Creates a copy, does not modify the original list\n",
    "print(sorted(a, reverse=True))  # [9, 8, 4, 2, 0] Also a copy\n",
    "\n",
    "# Add items to the end of the list\n",
    "a.append(10)  # Returns nothing\n",
    "print(a)      # [0, 4, 2, 8, 9, 10] \n",
    "a += [1, 12]  # Returns nothing\n",
    "print(a)      # [0, 4, 2, 8, 9, 10, 1, 12]\n",
    "\n",
    "# Lists don't have to be the same type in python\n",
    "a.append('machine learning')\n",
    "print(a)            # [0, 4, 2, 8, 9, 10, 1, 12, 'machine learning']\n",
    "# print(sorted(a))  # Causes an error\n",
    "\n",
    "# Searching\n",
    "print(8 in a)    # True\n",
    "print(100 in a)  # False"
   ]
  },
  {
   "cell_type": "markdown",
   "metadata": {
    "colab_type": "text",
    "id": "QFYbj-SuKxW-"
   },
   "source": [
    "## Dictionaries\n",
    "https://developers.google.com/edu/python/dict-files"
   ]
  },
  {
   "cell_type": "code",
   "execution_count": 7,
   "metadata": {
    "colab": {
     "base_uri": "https://localhost:8080/",
     "height": 125
    },
    "colab_type": "code",
    "id": "PlVLLj1DKxW-",
    "outputId": "03eb8234-e365-45ef-954c-977e3a2d1acc"
   },
   "outputs": [
    {
     "name": "stdout",
     "output_type": "stream",
     "text": [
      "{'a': 97}\n",
      "97\n",
      "{'a': 97, 'c': 99, 0: [0, 1, 2]}\n",
      "dict_keys(['a', 'c', 0])\n",
      "dict_values([97, 99, [0, 1, 2]])\n",
      "True\n",
      "False\n",
      "{'c': 99, 0: [0, 1, 2]}\n"
     ]
    }
   ],
   "source": [
    "d = {}       # Create an empty dictionary, which is a key-value map\n",
    "d['a'] = 97  # Add an item to the dictionary\n",
    "print(d)     # {'a': 97}\n",
    "print(d['a'])\n",
    "\n",
    "d['c'] = 99\n",
    "d[0] = [0, 1, 2]  # Keys and values don't need to be the same type\n",
    "print(d)          # {'a': 97, 'c': 99, 0: [0, 1, 2]}\n",
    "\n",
    "# Retrieve the keys and values of the dictionary.\n",
    "# These are not actually lists, but look like it. Call list(d.keys()) to actually convert it to a list\n",
    "keys = d.keys()      # Retrieve a list of the keys of the dictionary, not necessarily in any order\n",
    "values = d.values()  # Retrieve a list of the values of the dictionary, not necessarily in any order\n",
    "print(keys)          # ['a', 'c', 0]\n",
    "print(values)        # [97, 99, [0, 1, 2]]\n",
    "\n",
    "# Check to see if items are in the dictionary (checks keys)\n",
    "print('a' in d)  # True\n",
    "print('x' in d)  # False\n",
    "\n",
    "# Remove an item from the list\n",
    "del d['a']    # Returns nothing, modifies inplace\n",
    "# del d['y']  # Error\n",
    "print(d)      # delete the key-value pair "
   ]
  },
  {
   "cell_type": "markdown",
   "metadata": {
    "colab_type": "text",
    "id": "EAP34ygrKxXB"
   },
   "source": [
    "## If Statements\n",
    "Covered in the strings section: https://developers.google.com/edu/python/strings"
   ]
  },
  {
   "cell_type": "code",
   "execution_count": 5,
   "metadata": {
    "colab": {
     "base_uri": "https://localhost:8080/",
     "height": 107
    },
    "colab_type": "code",
    "id": "GAbWdsiZKxXB",
    "outputId": "9e6368ff-2132-412c-de76-843385db1896"
   },
   "outputs": [
    {
     "name": "stdout",
     "output_type": "stream",
     "text": [
      "yes\n",
      "neq\n",
      "1\n",
      "yes\n",
      "here\n"
     ]
    }
   ],
   "source": [
    "# Python doesn't require parenthese\n",
    "a, b = 7, 10\n",
    "\n",
    "# equality\n",
    "if a == 7:\n",
    "    print('yes')\n",
    "else:\n",
    "    print('no')\n",
    "    \n",
    "# not equal\n",
    "if a != 8:\n",
    "    print('neq')\n",
    "    \n",
    "# and\n",
    "if a > 5 and b <= 10:\n",
    "    print('1')\n",
    "elif a > 10:\n",
    "    print('2')\n",
    "else:\n",
    "    print('3')\n",
    "\n",
    "# or\n",
    "if a < 10 or b > 100:\n",
    "    print('yes')\n",
    "    \n",
    "# Strings also use '=='\n",
    "s = 'abc'\n",
    "if s == 'abc':\n",
    "    print('here')"
   ]
  },
  {
   "cell_type": "markdown",
   "metadata": {
    "colab_type": "text",
    "id": "85cdm7vpKxXF"
   },
   "source": [
    "## For Loops\n",
    "Covered under lists: https://developers.google.com/edu/python/lists"
   ]
  },
  {
   "cell_type": "code",
   "execution_count": 6,
   "metadata": {
    "colab": {
     "base_uri": "https://localhost:8080/",
     "height": 341
    },
    "colab_type": "code",
    "id": "AUsnbZ2QKxXG",
    "outputId": "380b6be6-b715-46ae-e436-f1b6c77a25d2"
   },
   "outputs": [
    {
     "name": "stdout",
     "output_type": "stream",
     "text": [
      "0\n",
      "8\n",
      "3\n",
      "5\n",
      "1\n",
      "0\n",
      "8\n",
      "3\n",
      "5\n",
      "1\n",
      "0 -> a\n",
      "1 -> b\n",
      "2 -> c\n",
      "0 0\n",
      "1 8\n",
      "2 3\n",
      "3 5\n",
      "4 1\n"
     ]
    }
   ],
   "source": [
    "a = [0, 8, 3, 5, 1]\n",
    "\n",
    "range(5)     # Dynamically generates 0, 1, 2, 3, 4\n",
    "range(1, 5)  # 1, 2, 3, 4\n",
    "\n",
    "# \"Standard\" for loop from Java\n",
    "for i in range(len(a)):\n",
    "    print(a[i])\n",
    "\n",
    "# Iterate over each element in the list\n",
    "for x in a:\n",
    "    print(x)\n",
    "    \n",
    "# Iterating through dictionaries\n",
    "d = {0: 'a', 1: 'b', 2: 'c'}\n",
    "for key, value in d.items():\n",
    "    print(str(key) + ' -> ' + value)\n",
    "    \n",
    "    \n",
    "# Loop over items in an array and get the index at the same time\n",
    "for index, item in enumerate(a):\n",
    "  print(index, item)"
   ]
  },
  {
   "cell_type": "markdown",
   "metadata": {
    "colab_type": "text",
    "id": "fZWMZzLqKxXI"
   },
   "source": [
    "## Methods"
   ]
  },
  {
   "cell_type": "code",
   "execution_count": 7,
   "metadata": {
    "colab": {
     "base_uri": "https://localhost:8080/",
     "height": 107
    },
    "colab_type": "code",
    "id": "rE3R-tqXKxXJ",
    "outputId": "7f86bd03-f771-4b78-a31d-ad764f7825bf"
   },
   "outputs": [
    {
     "name": "stdout",
     "output_type": "stream",
     "text": [
      "7\n",
      "10\n",
      "[0, 1, 3, 5]\n",
      "2\n",
      "3\n"
     ]
    }
   ],
   "source": [
    "# No return type specification necessary\n",
    "def add(x, y):\n",
    "    return x + y\n",
    "\n",
    "def concat(list_1, list_2):\n",
    "    list_1 += list_2\n",
    "\n",
    "print(add(3, 4))        # 7\n",
    "# print(add(4, 8, 10))  # Error\n",
    "\n",
    "# Arguments can be passed by name\n",
    "print(add(y=8, x=2))  # 10\n",
    "\n",
    "a1 = [0, 1]\n",
    "a2 = [3, 5]\n",
    "concat(a1, a2)  # Returns nothing\n",
    "print(a1)       # [0, 1, 3, 5]\n",
    "\n",
    "# Methods can return more than one thing\n",
    "def two(a):\n",
    "  return a + 1, a + 2\n",
    "\n",
    "a3, a4 = two(1)\n",
    "print(a3)  # 2\n",
    "print(a4)  # 3\n",
    "\n",
    "t = two(1)\n",
    "print(t[0])\n",
    "print(t[1])"
   ]
  },
  {
   "cell_type": "markdown",
   "metadata": {
    "colab_type": "text",
    "id": "WMNaq9mPdfry"
   },
   "source": [
    "## List and Dictionary Comprehension"
   ]
  },
  {
   "cell_type": "code",
   "execution_count": 8,
   "metadata": {
    "colab": {
     "base_uri": "https://localhost:8080/",
     "height": 53
    },
    "colab_type": "code",
    "id": "Ej-2TueUdirC",
    "outputId": "4e7a96b7-65d2-4c71-f2c4-aae74b4d6032"
   },
   "outputs": [
    {
     "name": "stdout",
     "output_type": "stream",
     "text": [
      "{0: 0, 1: 4, 2: 8, 3: 12}\n",
      "8\n"
     ]
    }
   ],
   "source": [
    "# Sometimes code can be simplified using list/dictionary comprehensions\n",
    "def add_one(x):\n",
    "  return x + 1\n",
    "\n",
    "# The standard way to apply a function to every element and save in y\n",
    "x = [0, 1, 2, 3]\n",
    "y = []\n",
    "for i in range(len(x)):\n",
    "  y.append(add_one(x[i]))\n",
    "\n",
    "# This is equivalent to the above\n",
    "y = [add_one(x_i) for x_i in x]\n",
    "\n",
    "# Add conditionals\n",
    "y2 = [add_one(x_i) for x_i in x if x_i > 1]\n",
    "\n",
    "# Dictionary comprehensions can be used to create dictionaries easily.\n",
    "# This creates a mapping from x_i -> x_i * 4\n",
    "d = {x_i : x_i * 4 for x_i in x}\n",
    "print(d)\n",
    "print(d[2])  # 8"
   ]
  },
  {
   "cell_type": "markdown",
   "metadata": {
    "colab_type": "text",
    "id": "havfAPbuKxXL"
   },
   "source": [
    "## Files\n",
    "https://developers.google.com/edu/python/dict-files"
   ]
  },
  {
   "cell_type": "code",
   "execution_count": 11,
   "metadata": {
    "colab": {
     "base_uri": "https://localhost:8080/",
     "height": 35
    },
    "colab_type": "code",
    "id": "VcOnWtFdKxXM",
    "outputId": "c15596ae-3aac-447e-e51e-7bd4d190b80f"
   },
   "outputs": [
    {
     "name": "stdout",
     "output_type": "stream",
     "text": [
      "['THIS IS INPUT']\n"
     ]
    }
   ],
   "source": [
    "# Reading from a file\n",
    "# In the same directory as the Jupyter notebook is a file called 'input.txt'.\n",
    "# You can use this for loop template to iteratively read a file line by line. Generally, you will\n",
    "# include some parsing logic to extract data from each line\n",
    "lines = []\n",
    "with open('input.txt', 'r') as f:   # This is the line which opens the file. `f` is the file handler\n",
    "                                    # The `with open` will automatically close the file are you are done reading.\n",
    "                                    # 'r' means you want to read from the file\n",
    "    for line in f:\n",
    "        line = line.strip()         # `strip()` removes any  whitespace from the beginning and end of the string\n",
    "                                    # By default, each line will have '\\n' at the end. \n",
    "        upper = line.upper()        # Here is where you would add your custom parsing logic\n",
    "        lines.append(upper)\n",
    "\n",
    "print(lines)  # ['A', 'B', 'C', 'D', 'E', 'F', 'G']\n",
    "\n",
    "# Writing to a file\n",
    "# This will write each of the apital letters to a line in an output file\n",
    "out = open('out.txt', 'w')\n",
    "out.write('hi')\n",
    "out.close()\n",
    "\n",
    "with open('output.txt', 'w') as out:  # 'w' means you want to write to the file. This will overwite the file if it exists\n",
    "    for item in lines:\n",
    "        out.write(str(item) + '\\n')   # the `write` method only accepts strings and you have to\n",
    "                                      # manually take care of the '\\n' yourself"
   ]
  },
  {
   "cell_type": "markdown",
   "metadata": {
    "colab_type": "text",
    "id": "vtJjMtzIKxXQ"
   },
   "source": [
    "## Classes"
   ]
  },
  {
   "cell_type": "code",
   "execution_count": 10,
   "metadata": {
    "colab": {},
    "colab_type": "code",
    "id": "I3VCDmoyKxXQ"
   },
   "outputs": [],
   "source": [
    "class Person(object):\n",
    "    # This is the constructor. All instance methods of a class\n",
    "    # must accept `self` as the first parameter.\n",
    "    # You use `self` to access data members and methods of the class,\n",
    "    # similar to `this` in Java\n",
    "    def __init__(self, name, age):\n",
    "        # This will call the super class's constructor; Optional if you inherit from `object`\n",
    "        super().__init__()\n",
    "        \n",
    "        # Assign data members\n",
    "        self.name = name\n",
    "        self.age = age\n",
    "        \n",
    "    def is_adult(self):\n",
    "        return self.age >= 18\n",
    "    \n",
    "    def is_child(self):\n",
    "        # Other instance methods are called with the `self` keyword.\n",
    "        return not self.is_adult()\n",
    "    \n",
    "    def increment_age(self, amount):\n",
    "        self.age += amount\n",
    "        \n",
    "    # Test to see if two `Person` objects are equal\n",
    "    def __eq__(self, other):\n",
    "        return self.name == other.name and self.age == other.age"
   ]
  },
  {
   "cell_type": "code",
   "execution_count": 11,
   "metadata": {
    "colab": {
     "base_uri": "https://localhost:8080/",
     "height": 125
    },
    "colab_type": "code",
    "id": "5BW7vgKhKxXS",
    "outputId": "9c88d5e2-b4ab-4b84-b606-e11202ce117b"
   },
   "outputs": [
    {
     "name": "stdout",
     "output_type": "stream",
     "text": [
      "Bob\n",
      "19\n",
      "True\n",
      "20\n",
      "False\n",
      "True\n"
     ]
    }
   ],
   "source": [
    "p = Person('Bob', 19)\n",
    "\n",
    "# Data members can be accessed directly\n",
    "print(p.name)  # 'Bob'\n",
    "print(p.age)   # 19\n",
    "\n",
    "# Even though all of the methods require a `self` argument, you ignore that argument\n",
    "# when calling the method\n",
    "print(p.is_adult())  # True \n",
    "\n",
    "p.increment_age(1)  # Returns nothing\n",
    "print(p.age)        # 20\n",
    "\n",
    "p2 = Person('Mary', 30)\n",
    "print(p == p2)  # False\n",
    "\n",
    "p3 = Person('Mary', 30)\n",
    "print(p2 == p3)  # True"
   ]
  },
  {
   "cell_type": "markdown",
   "metadata": {},
   "source": [
    "## Exception Handling"
   ]
  },
  {
   "cell_type": "code",
   "execution_count": 8,
   "metadata": {},
   "outputs": [
    {
     "name": "stdout",
     "output_type": "stream",
     "text": [
      "Caught error: list index out of range\n",
      "Index Error\n",
      "Either one\n"
     ]
    }
   ],
   "source": [
    "# This is the equivalent of Java's try-catch block.\n",
    "# The `Exception` class is the most generic\n",
    "a = [0, 1, 2]\n",
    "try:\n",
    "    a[5]\n",
    "except IndexError as e:\n",
    "    print('Caught error: ' + str(e))\n",
    "    \n",
    "# Multiple exceptions can be caught like this\n",
    "try:\n",
    "    a[5]\n",
    "except IndexError as e:\n",
    "    print('Index Error')\n",
    "except Exception as e:\n",
    "    print('Exception')\n",
    "    \n",
    "# Or like this\n",
    "try:\n",
    "    a[5]\n",
    "except (IndexError, Exception) as e:\n",
    "    print('Either one')\n",
    "\n",
    "# If you want to ignore all exceptions, use `pass`\n",
    "try:\n",
    "    a[5]\n",
    "except:\n",
    "    pass    "
   ]
  },
  {
   "cell_type": "markdown",
   "metadata": {
    "colab_type": "text",
    "id": "Ipg0uo3PLXaY"
   },
   "source": [
    "## Useful Packages\n",
    "There are many packages that come with your python installation as well as many which can be downloaded easily for free.\n",
    "Importing a package requires the `import` command.\n",
    "Most packages can be installed using the `pip` command (which is run on the command line, not within a python environment), that is included with the python installation.\n",
    "\n",
    "```\n",
    "> pip install numpy\n",
    "> pip install scikit-learn\n",
    "```\n"
   ]
  },
  {
   "cell_type": "markdown",
   "metadata": {
    "colab_type": "text",
    "id": "xpBDG4wnLpmZ"
   },
   "source": [
    "### os\n",
    "The `os` package is useful for interacting with your file system by searching through directories or performing operations on file paths."
   ]
  },
  {
   "cell_type": "code",
   "execution_count": 3,
   "metadata": {
    "colab": {
     "base_uri": "https://localhost:8080/",
     "height": 53
    },
    "colab_type": "code",
    "id": "PAGhy6RcLmCB",
    "outputId": "579dc5b0-657d-4de9-daa0-36654a6307e8"
   },
   "outputs": [
    {
     "name": "stdout",
     "output_type": "stream",
     "text": [
      "/path/to\n",
      "file.txt\n"
     ]
    }
   ],
   "source": [
    "# To import a package in python, use the import keyword\n",
    "import os  # Now `os` is defined\n",
    "\n",
    "\n",
    "# The `help()` command displays all of the methods and variables that you can\n",
    "# use in a package. This also works with variables.\n",
    "#help(os)  # Commented out so it does not display in the notebook\n",
    "\n",
    "os.listdir()  # Lists the files in the current directory. Accepts an argument to\n",
    "              # list the files in a specific directory\n",
    "  \n",
    "print(os.path.dirname('/path/to/file.txt'))   # '/path/to'\n",
    "print(os.path.basename('/path/to/file.txt'))  #  'file.txt'"
   ]
  },
  {
   "cell_type": "markdown",
   "metadata": {
    "colab_type": "text",
    "id": "-p4hIpwIObwu"
   },
   "source": [
    "### collections\n",
    "The `collections` package has many useful data structures that simplify code."
   ]
  },
  {
   "cell_type": "code",
   "execution_count": 13,
   "metadata": {
    "colab": {
     "base_uri": "https://localhost:8080/",
     "height": 71
    },
    "colab_type": "code",
    "id": "yf18pf4GM-fW",
    "outputId": "9424da07-c100-4dd8-f572-58a15116d4da"
   },
   "outputs": [
    {
     "name": "stdout",
     "output_type": "stream",
     "text": [
      "0\n",
      "7\n",
      "False\n"
     ]
    }
   ],
   "source": [
    "# To import a specific subpackage or class from a package, use `from ... import`\n",
    "from collections import defaultdict, Counter\n",
    "\n",
    "# The defaultdict is a wrapper around a dictionary that returns a default value\n",
    "# if the item queried does not exist. When you instantiate it, you have to tell\n",
    "# what type the default item should be\n",
    "d = defaultdict(int)\n",
    "print(d[0])      # 0, This would throw an error with a normal dictionary\n",
    "d[1] = 7\n",
    "print(d[1])      # Otherwise it behaves like a normal dictionary\n",
    "print('a' in d)  # Still False even though d['a'] would return 0"
   ]
  },
  {
   "cell_type": "code",
   "execution_count": 14,
   "metadata": {
    "colab": {
     "base_uri": "https://localhost:8080/",
     "height": 89
    },
    "colab_type": "code",
    "id": "JKeEhY6oPpIW",
    "outputId": "eefe6a00-36ee-4be3-b91a-a0d274ef6715"
   },
   "outputs": [
    {
     "name": "stdout",
     "output_type": "stream",
     "text": [
      "5\n",
      "1\n",
      "1\n",
      "3\n"
     ]
    }
   ],
   "source": [
    "# The `Counter` class is helpful for keeping count of items. It is another wrapper\n",
    "# around the dictionary class\n",
    "c = Counter()\n",
    "\n",
    "c['a'] += 5  # This would raise an error in a normal dictionary because the key 'a' does not exist\n",
    "print(c['a'])\n",
    "# print(c['b'])  # Still causes an error\n",
    "\n",
    "# You can initialize it with a list of items to count\n",
    "c = Counter(['a', 'b', 'c', 'c', 'c'])\n",
    "print(c['a'])  # 1\n",
    "print(c['b'])  # 1\n",
    "print(c['c'])  # 3"
   ]
  },
  {
   "cell_type": "markdown",
   "metadata": {
    "colab_type": "text",
    "id": "xbAq53DsRS1L"
   },
   "source": [
    "### random\n",
    "The `random` package provides tools for generating random numbers."
   ]
  },
  {
   "cell_type": "code",
   "execution_count": 12,
   "metadata": {
    "colab": {
     "base_uri": "https://localhost:8080/",
     "height": 71
    },
    "colab_type": "code",
    "id": "8agPYmWlcg6M",
    "outputId": "ed66114f-708f-4b49-a417-95dc0c7195b4"
   },
   "outputs": [
    {
     "name": "stdout",
     "output_type": "stream",
     "text": [
      "2\n",
      "0.30329858588551006\n",
      "92\n",
      "g\n",
      "[4, 2, 5, 0, 1, 3]\n"
     ]
    }
   ],
   "source": [
    "import random\n",
    "\n",
    "random.seed(4)\n",
    "\n",
    "print(random.randint(1, 5))  # A random integer in (1, 5)\n",
    "\n",
    "print(random.random())  # A random number in (0, 1.0]\n",
    "\n",
    "print(random.randrange(0, 101, 2))  # Even integer from 0 to 100\n",
    "\n",
    "print(random.choice('abcdefghij'))  # Choose a random element\n",
    "\n",
    "# Randomly shuffle a list\n",
    "a = [0, 1, 2, 3, 4, 5]\n",
    "random.shuffle(a)  # Shuffles in place - does not return a copy\n",
    "print(a)\n"
   ]
  },
  {
   "cell_type": "markdown",
   "metadata": {
    "colab_type": "text",
    "id": "aWyjL4aKQ9Fx"
   },
   "source": [
    "### numpy\n",
    "`numpy` is a very useful matrix library for Python.\n",
    "It is used very frequently in machine learning, so it is good to be familiar with it.\n",
    "If your program crashes with an import error when you import numpy, you need to install it with\n",
    "```\n",
    "> pip install numpy\n",
    "```\n",
    "\n",
    "#### Numpy vs. List \n",
    "* Less memory \n",
    "* Faster \n",
    "* More convenient \n",
    "\n",
    "### Numpy Operations \n",
    "* Find dimension of the array \n",
    "* Find the byte size of each element \n",
    "* Find the data type of the element "
   ]
  },
  {
   "cell_type": "code",
   "execution_count": 10,
   "metadata": {
    "colab": {
     "base_uri": "https://localhost:8080/",
     "height": 197
    },
    "colab_type": "code",
    "id": "beJgaxgRQSnW",
    "outputId": "fe5df565-f473-47c4-bbee-0b93dca6102d"
   },
   "outputs": [
    {
     "name": "stdout",
     "output_type": "stream",
     "text": [
      "[[1 2 3]\n",
      " [4 5 6]]\n",
      "[5 7 9]\n",
      "2\n",
      "[0. 0. 0. 0. 0.]\n",
      "(5,)\n",
      "5\n",
      "[1. 4. 5. 3. 6.]\n",
      "[4.17022005e-01 7.20324493e-01 1.14374817e-04 3.02332573e-01\n",
      " 1.46755891e-01]\n",
      "5.086424915356128\n",
      "[4.17022005e-01 2.88129797e+00 5.71874087e-04 9.06997718e-01\n",
      " 8.80535345e-01]\n",
      "[4.17022005e-01 2.88129797e+00 5.71874087e-04 9.06997718e-01\n",
      " 8.80535345e-01]\n",
      "[ 5. 20. 25. 15. 30.]\n",
      "[4. 7. 8. 6. 9.]\n"
     ]
    }
   ],
   "source": [
    "# Imports can be aliased to simplify code\n",
    "import numpy as np  # The numpy library is now referenced with np\n",
    "\n",
    "# create a 2-dimentional array \n",
    "a = np.array([\n",
    "    (1,2,3), \n",
    "    (4,5,6)\n",
    "])\n",
    "print(a)\n",
    "print(a.sum(axis = 0))   \n",
    "                # returns the sum of each col \n",
    "print(a.ndim)   # find the dimension of a \n",
    "                # can also use: itemsize, dtype, vstack, hstack, ravel, etc. \n",
    "\n",
    "# Create a vector of length 5 of all 0s\n",
    "v = np.zeros(5)\n",
    "print(v)\n",
    "\n",
    "print(v.shape)     # Returns a tuple of the dimensions: (5,)\n",
    "print(v.shape[0])  # Returns the size of the 0th dimension, 5 (number of cols)\n",
    "\n",
    "# You can assign specific entries by their index into the vector\n",
    "v[0] = 1\n",
    "v[1] = 4\n",
    "\n",
    "# You can assign ranges of values\n",
    "v[2:5] = [5, 3, 6]\n",
    "print(v)\n",
    "\n",
    "# Create a random vector of values between 0 and 1\n",
    "np.random.seed(1)\n",
    "v1 = np.random.rand(5)\n",
    "print(v1)\n",
    "\n",
    "# Compute the dot product\n",
    "print(np.dot(v, v1))\n",
    "\n",
    "# Element-wise multiplication\n",
    "print(v * v1)\n",
    "print(np.multiply(v, v1))  # equivalent\n",
    "\n",
    "# Multiply the whole vector by a scalar, add a constant\n",
    "print(v * 5)\n",
    "print(v + 3)\n",
    "\n",
    "# "
   ]
  },
  {
   "cell_type": "code",
   "execution_count": 13,
   "metadata": {
    "colab": {
     "base_uri": "https://localhost:8080/",
     "height": 503
    },
    "colab_type": "code",
    "id": "pA5SJEbgReu2",
    "outputId": "3b529149-a3b4-4674-8898-d760470ad9b8"
   },
   "outputs": [
    {
     "name": "stdout",
     "output_type": "stream",
     "text": [
      "[[1. 1. 1. 1.]\n",
      " [1. 1. 1. 1.]\n",
      " [1. 1. 1. 1.]]\n",
      "(3, 4)\n",
      "3\n",
      "4\n",
      "[[1. 1. 1. 1.]\n",
      " [1. 1. 1. 8.]\n",
      " [1. 1. 1. 1.]]\n",
      "[1. 1. 1. 8.]\n",
      "[1. 1. 1.]\n",
      "[[1. 1. 1. 1.]\n",
      " [1. 2. 3. 4.]\n",
      " [1. 1. 1. 1.]]\n",
      "Y = \n",
      "[[0.09233859 0.18626021 0.34556073 0.39676747 0.53881673]\n",
      " [0.41919451 0.6852195  0.20445225 0.87811744 0.02738759]\n",
      " [0.67046751 0.4173048  0.55868983 0.14038694 0.19810149]\n",
      " [0.80074457 0.96826158 0.31342418 0.69232262 0.87638915]]\n",
      "[[1.98274519 2.25704609 1.42212698 2.10759446 1.64069497]\n",
      " [6.14510843 6.68165992 3.68423142 5.34345363 4.693453  ]\n",
      " [1.98274519 2.25704609 1.42212698 2.10759446 1.64069497]]\n",
      "[[1. 1. 1.]\n",
      " [1. 2. 1.]\n",
      " [1. 3. 1.]\n",
      " [1. 4. 1.]]\n",
      "[[1. 1. 1.]\n",
      " [1. 2. 1.]\n",
      " [1. 3. 1.]\n",
      " [1. 4. 1.]]\n",
      "[[0 1 2]\n",
      " [3 4 5]]\n"
     ]
    }
   ],
   "source": [
    "# Matrices work much the same way (vectors are just matrices with 1 dimension)\n",
    "# `np.ones` creates a matrix of the given input size\n",
    "t = (3, 4)\n",
    "X = np.ones(t)\n",
    "print(X)\n",
    "print(X.shape)     # (3, 4)\n",
    "print(X.shape[0])  # 3\n",
    "print(X.shape[1])  # 4\n",
    "\n",
    "# Assigning specific entries requires 2 indices\n",
    "# The first is the row index, the second is the column index\n",
    "X[1, 3] = 8\n",
    "print(X)\n",
    "\n",
    "# The `:` selects the entire row or column\n",
    "row1 = X[1, :]\n",
    "print(row1)\n",
    "print(X[:, 2])\n",
    "\n",
    "# It can also be used to assign values\n",
    "X[1, :] = [1, 2, 3, 4]\n",
    "print(X)\n",
    "\n",
    "# Matrix multiplication\n",
    "Y = np.random.rand(4, 5)\n",
    "print(np.matmul(X, Y))  # A matrix of size (3, 5)\n",
    "\n",
    "# Transpose\n",
    "print(X.transpose())\n",
    "print(X.T)  # equivalent\n",
    "\n",
    "# You can create a matrix from a list (of lists)\n",
    "Z = np.asarray(\n",
    "    [\n",
    "        [0, 1, 2], \n",
    "        [3, 4, 5]\n",
    "    ])\n",
    "print(Z)"
   ]
  },
  {
   "cell_type": "code",
   "execution_count": 18,
   "metadata": {
    "colab": {
     "base_uri": "https://localhost:8080/",
     "height": 467
    },
    "colab_type": "code",
    "id": "-GYVjR0iRfO-",
    "outputId": "27114392-29eb-419c-8f18-118d0a252155"
   },
   "outputs": [
    {
     "name": "stdout",
     "output_type": "stream",
     "text": [
      "[[0. 0. 0.]\n",
      " [0. 0. 0.]\n",
      " [0. 0. 0.]\n",
      " [0. 0. 0.]\n",
      " [0. 0. 0.]]\n",
      "[[1. 1. 1.]\n",
      " [1. 1. 1.]\n",
      " [1. 1. 1.]\n",
      " [1. 1. 1.]\n",
      " [1. 1. 1.]]\n",
      "[[1. 0. 0. 0. 0.]\n",
      " [0. 1. 0. 0. 0.]\n",
      " [0. 0. 1. 0. 0.]\n",
      " [0. 0. 0. 1. 0.]\n",
      " [0. 0. 0. 0. 1.]]\n",
      "[[0.1521557  0.13008678 0.12585539]\n",
      " [0.75692104 0.68909671 0.7047985 ]\n",
      " [0.14267653 0.2329341  0.53017252]\n",
      " [0.52697286 0.53669603 0.42658442]\n",
      " [0.6704286  0.60622843 0.74766516]]\n",
      "[[2 1 2]\n",
      " [2 1 3]\n",
      " [1 2 1]\n",
      " [1 1 2]\n",
      " [2 2 3]]\n"
     ]
    }
   ],
   "source": [
    "# Useful ways to initialize matrices\n",
    "A = np.zeros((5, 3))  # A 5x5 matrix of all 0s\n",
    "print(A)\n",
    "\n",
    "A = np.ones((5, 3))  # A 5x3 matrix of all 1s\n",
    "print(A)\n",
    "\n",
    "A = np.eye(5)  # I matrix of size 5x5\n",
    "print(A)\n",
    "\n",
    "A = np.random.rand(5, 3)  # A random matrix of size 5x3 with numbers between 0 and 1\n",
    "print(A)\n",
    "\n",
    "A = np.random.randint(1, 4, (5, 3)) # A random matrix of integers in (0, 4] of size 5x3\n",
    "print(A)\n"
   ]
  },
  {
   "cell_type": "markdown",
   "metadata": {},
   "source": [
    "### Matplotlib\n",
    "`Matplotlib` is a useful machine learning library. It can be installed with\n",
    "```\n",
    "> pip install matplotlib \n",
    "```"
   ]
  },
  {
   "cell_type": "code",
   "execution_count": 11,
   "metadata": {},
   "outputs": [
    {
     "data": {
      "text/plain": [
       "<Figure size 640x480 with 1 Axes>"
      ]
     },
     "metadata": {},
     "output_type": "display_data"
    }
   ],
   "source": [
    "import numpy as np \n",
    "import matplotlib.pyplot as plt \n",
    "\n",
    "x = np.arange(0, 3*np.pi, 0.1)\n",
    "\n",
    "y = np.cos(x) \n",
    "\n",
    "plt.plot(x,y) \n",
    "\n",
    "plt.show()"
   ]
  },
  {
   "cell_type": "markdown",
   "metadata": {
    "colab_type": "text",
    "id": "yOwjntGCZNP6"
   },
   "source": [
    "### sklearn\n",
    "`sklearn` is a Python 2D plotting library which produces publication quality figures in a variety of hardcopy formats and interactive environments across platforms.\n",
    "```\n",
    "> pip install scikit-learn\n",
    "```"
   ]
  },
  {
   "cell_type": "code",
   "execution_count": 17,
   "metadata": {
    "colab": {
     "base_uri": "https://localhost:8080/",
     "height": 91
    },
    "colab_type": "code",
    "id": "8JCkA66STH3U",
    "outputId": "dd0bbb86-abe7-4de0-b259-fd6139bbfb3a"
   },
   "outputs": [
    {
     "name": "stdout",
     "output_type": "stream",
     "text": [
      "Accuracy: 66.66666666666666\n"
     ]
    },
    {
     "name": "stderr",
     "output_type": "stream",
     "text": [
      "/anaconda3/lib/python3.7/site-packages/sklearn/linear_model/stochastic_gradient.py:166: FutureWarning: max_iter and tol parameters have been added in SGDClassifier in 0.19. If both are left unset, they default to max_iter=5 and tol=None. If tol is not None, max_iter defaults to max_iter=1000. From 0.21, default max_iter will be 1000, and default tol will be 1e-3.\n",
      "  FutureWarning)\n"
     ]
    }
   ],
   "source": [
    "# An example learning problem. You may use this as a template for homework\n",
    "from sklearn.linear_model import SGDClassifier\n",
    "# Other examples \n",
    "# from sklearn.ensemble import RandomForestClassifier \n",
    "# from sklearn.svm import SVC \n",
    "# from sklearn.neural_network import MLPClassifier \n",
    "\n",
    "# This is the feature matrix. There are 7 rows (7 training examples) with\n",
    "# 4 columns (4 features).\n",
    "X = np.asarray(\n",
    "[\n",
    "    [0, 0, 1, 0],\n",
    "    [0, 1, 0, 0],\n",
    "    [0, 0, 1, 1],\n",
    "    [1, 0, 0, 1],\n",
    "    [0, 1, 1, 0],\n",
    "    [1, 1, 0, 0],\n",
    "    [0, 1, 0, 1]\n",
    "])\n",
    "\n",
    "# These are the binary class labels for all 7 instances\n",
    "y = np.asarray([0, 0, 1, 1, 0, 0, 0])\n",
    "\n",
    "# Create the classifier\n",
    "clf = SGDClassifier(loss=\"hinge\", penalty=\"l2\")\n",
    "\n",
    "# Train the classifier on our labeled data\n",
    "clf.fit(X, y)\n",
    "\n",
    "# Use our trained classifier to predict labels for new input data\n",
    "X_test = np.asarray(\n",
    "[\n",
    "    [1, 0, 0, 0],\n",
    "    [0, 1, 1, 1],\n",
    "    [0, 0, 0, 1]\n",
    "])\n",
    "y_pred = clf.predict(X_test)\n",
    "# Let's assume we know the actual labels of `X_test` are this\n",
    "y_test = np.asarray([0, 1, 1])\n",
    "\n",
    "# We can compute the total number of correct classifications:\n",
    "num_correct = sum(y_pred == y_test)\n",
    "total = y_pred.shape[0]\n",
    "print('Accuracy: ' + str(num_correct / total * 100))"
   ]
  },
  {
   "cell_type": "code",
   "execution_count": 19,
   "metadata": {},
   "outputs": [
    {
     "name": "stdout",
     "output_type": "stream",
     "text": [
      "Automatically created module for IPython interactive environment\n",
      "Coefficients: \n",
      " [938.23786125]\n",
      "Mean squared error: 2548.07\n",
      "Variance score: 0.47\n"
     ]
    },
    {
     "data": {
      "image/png": "[encoded data removed]",
      "text/plain": [
       "<Figure size 432x288 with 1 Axes>"
      ]
     },
     "metadata": {},
     "output_type": "display_data"
    }
   ],
   "source": [
    "print(__doc__)\n",
    "# Code source: Jaques Grobler\n",
    "# License: BSD 3 clause\n",
    "\n",
    "import matplotlib.pyplot as plt\n",
    "import numpy as np\n",
    "from sklearn import datasets, linear_model\n",
    "from sklearn.metrics import mean_squared_error, r2_score\n",
    "\n",
    "# Load the diabetes dataset\n",
    "diabetes = datasets.load_diabetes()\n",
    "\n",
    "\n",
    "# Use only one feature\n",
    "diabetes_X = diabetes.data[:, np.newaxis, 2]\n",
    "\n",
    "# Split the data into training/testing sets\n",
    "diabetes_X_train = diabetes_X[:-20]\n",
    "diabetes_X_test = diabetes_X[-20:]\n",
    "\n",
    "# Split the targets into training/testing sets\n",
    "diabetes_y_train = diabetes.target[:-20]\n",
    "diabetes_y_test = diabetes.target[-20:]\n",
    "\n",
    "# Create linear regression object\n",
    "regr = linear_model.LinearRegression()\n",
    "\n",
    "# Train the model using the training sets\n",
    "regr.fit(diabetes_X_train, diabetes_y_train)\n",
    "\n",
    "# Make predictions using the testing set\n",
    "diabetes_y_pred = regr.predict(diabetes_X_test)\n",
    "\n",
    "# The coefficients\n",
    "print('Coefficients: \\n', regr.coef_)\n",
    "# The mean squared error\n",
    "print(\"Mean squared error: %.2f\"\n",
    "      % mean_squared_error(diabetes_y_test, diabetes_y_pred))\n",
    "# Explained variance score: 1 is perfect prediction\n",
    "print('Variance score: %.2f' % r2_score(diabetes_y_test, diabetes_y_pred))\n",
    "\n",
    "# Plot outputs\n",
    "plt.scatter(diabetes_X_test, diabetes_y_test,  color='black')\n",
    "plt.plot(diabetes_X_test, diabetes_y_pred, color='red', linewidth=3)\n",
    "\n",
    "plt.xticks(())\n",
    "plt.yticks(())\n",
    "\n",
    "plt.show()"
   ]
  },
  {
   "cell_type": "markdown",
   "metadata": {
    "colab": {},
    "colab_type": "code",
    "id": "Xd3IJI5TZnwQ"
   },
   "source": [
    "## Conclusion\n",
    "Google and Stackoverflow will be your best friend for writing python code.\n",
    "Searching for simple things like \"python write string to file\" or \"python equivalent of java toString\" works incredibly well.\n",
    "\n",
    "If you have specific questions or need help troubleshooting your python installation, please come to the recitations this week or to any TAs office hours."
   ]
  },
  {
   "cell_type": "code",
   "execution_count": null,
   "metadata": {},
   "outputs": [],
   "source": []
  }
 ],
 "metadata": {
  "colab": {
   "collapsed_sections": [
    "DBUOqKo1KxW1",
    "-D--i99TKxW7",
    "QFYbj-SuKxW-",
    "EAP34ygrKxXB",
    "85cdm7vpKxXF",
    "fZWMZzLqKxXI",
    "havfAPbuKxXL",
    "vtJjMtzIKxXQ"
   ],
   "name": "python-introduction.ipynb",
   "provenance": [],
   "toc_visible": true,
   "version": "0.3.2"
  },
  "kernelspec": {
   "display_name": "Python 3",
   "language": "python",
   "name": "python3"
  },
  "language_info": {
   "codemirror_mode": {
    "name": "ipython",
    "version": 3
   },
   "file_extension": ".py",
   "mimetype": "text/x-python",
   "name": "python",
   "nbconvert_exporter": "python",
   "pygments_lexer": "ipython3",
   "version": "3.7.1"
  }
 },
 "nbformat": 4,
 "nbformat_minor": 1
}
